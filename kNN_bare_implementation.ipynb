{
 "cells": [
  {
   "cell_type": "code",
   "execution_count": 1,
   "metadata": {
    "collapsed": true
   },
   "outputs": [],
   "source": [
    "import numpy as np\n",
    "import pandas as pd\n",
    "from sklearn import datasets"
   ]
  },
  {
   "cell_type": "code",
   "execution_count": 2,
   "metadata": {
    "collapsed": true
   },
   "outputs": [],
   "source": [
    "iris = datasets.load_iris()\n",
    "x =  iris.data\n",
    "y = iris.target"
   ]
  },
  {
   "cell_type": "markdown",
   "metadata": {},
   "source": [
    "<h3>Generate Random Data points(k) </h3>"
   ]
  },
  {
   "cell_type": "code",
   "execution_count": 3,
   "metadata": {
    "collapsed": true
   },
   "outputs": [],
   "source": [
    "def random_datapoints(x  , y , k , iters):\n",
    "    \n",
    "    for i in range(iters):\n",
    "        random_values = np.random.randint(0 , len(x) , size = k )\n",
    "        labels = []\n",
    "        for randoms in random_values:\n",
    "            labels.append(y[randoms])\n",
    "        if len(set(labels)) == len(random_values):\n",
    "            break\n",
    "    return np.array(random_values)"
   ]
  },
  {
   "cell_type": "markdown",
   "metadata": {},
   "source": [
    "<h3>Euclidean Distance</h3>"
   ]
  },
  {
   "cell_type": "code",
   "execution_count": 4,
   "metadata": {
    "collapsed": true
   },
   "outputs": [],
   "source": [
    "def euclidean_dist(x_train , x_test , y , random_values):\n",
    "    \n",
    "    dists = {}\n",
    "    for i in random_values:\n",
    "        dist = np.sqrt(np.square(np.sum((x_test - x_train[i]))))\n",
    "        dists[dist] =  y[i]\n",
    "    label = dists[min(dists.keys())]\n",
    "    \n",
    "    return label"
   ]
  },
  {
   "cell_type": "markdown",
   "metadata": {},
   "source": [
    "<h3>kNN</h3>"
   ]
  },
  {
   "cell_type": "code",
   "execution_count": 5,
   "metadata": {
    "collapsed": true
   },
   "outputs": [],
   "source": [
    "def kNN(x_train , x_test , y_train , k = 2, iters = 50):\n",
    "    pred_y = []\n",
    "    for i in np.arange(0 , len(x_test)):\n",
    "        random_data_points = random_datapoints(x_train , y_train , k = k , iters = iters)\n",
    "        label = euclidean_dist(x_train , x_test[i] , y_train , random_values = random_data_points)\n",
    "        pred_y.append(label)\n",
    "    return pred_y"
   ]
  },
  {
   "cell_type": "code",
   "execution_count": 6,
   "metadata": {
    "collapsed": true
   },
   "outputs": [],
   "source": [
    "from sklearn.model_selection import train_test_split\n",
    "x_train , x_test , y_train , y_test = train_test_split(x , y , \n",
    "                                                       test_size = 0.3 , \n",
    "                                                       random_state = 123)"
   ]
  },
  {
   "cell_type": "code",
   "execution_count": 7,
   "metadata": {
    "collapsed": true
   },
   "outputs": [],
   "source": [
    "pred_y =  kNN(x_train = x_train , x_test = x_test , y_train = y_train , k = 3 , iters = 100 )"
   ]
  },
  {
   "cell_type": "code",
   "execution_count": 8,
   "metadata": {},
   "outputs": [
    {
     "name": "stdout",
     "output_type": "stream",
     "text": [
      "[[18  0  0]\n",
      " [ 1  8  1]\n",
      " [ 0  4 13]]\n",
      "0.866666666667\n"
     ]
    }
   ],
   "source": [
    "from sklearn.metrics import confusion_matrix , accuracy_score\n",
    "print(confusion_matrix( y_test ,pred_y))\n",
    "print(accuracy_score( y_test ,pred_y)) "
   ]
  }
 ],
 "metadata": {
  "kernelspec": {
   "display_name": "Python 3",
   "language": "python",
   "name": "python3"
  },
  "language_info": {
   "codemirror_mode": {
    "name": "ipython",
    "version": 3
   },
   "file_extension": ".py",
   "mimetype": "text/x-python",
   "name": "python",
   "nbconvert_exporter": "python",
   "pygments_lexer": "ipython3",
   "version": "3.6.2"
  }
 },
 "nbformat": 4,
 "nbformat_minor": 2
}
